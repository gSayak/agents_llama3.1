{
 "cells": [
  {
   "cell_type": "code",
   "execution_count": 17,
   "metadata": {},
   "outputs": [
    {
     "data": {
      "text/plain": [
       "{'model': 'llama3.1',\n",
       " 'created_at': '2024-10-01T13:34:51.488472Z',\n",
       " 'message': {'role': 'assistant',\n",
       "  'content': \"I don't have the ability to predict the future or know events that haven't occurred yet. I can only provide information up to my knowledge cutoff.\\n\\nSince you've asked about a date in the future (September 9, 2024), it's not possible for me to tell you who died on that specific date as of now. My training data does not extend to future events or dates beyond my knowledge cutoff.\"},\n",
       " 'done_reason': 'stop',\n",
       " 'done': True,\n",
       " 'total_duration': 5071285417,\n",
       " 'load_duration': 1806386667,\n",
       " 'prompt_eval_count': 20,\n",
       " 'prompt_eval_duration': 142554000,\n",
       " 'eval_count': 85,\n",
       " 'eval_duration': 3120257000}"
      ]
     },
     "execution_count": 17,
     "metadata": {},
     "output_type": "execute_result"
    }
   ],
   "source": [
    "import ollama\n",
    "\n",
    "llm = \"llama3.1\"\n",
    "q = ''' who died on sept 9, 2024'''\n",
    "\n",
    "res = ollama.chat(model=llm,\n",
    "                  messages=[{\"role\": \"system\", \"content\":\"\"},\n",
    "                            {\"role\":\"user\", \"content\":q}])\n",
    "res"
   ]
  },
  {
   "cell_type": "code",
   "execution_count": 18,
   "metadata": {},
   "outputs": [
    {
     "name": "stdout",
     "output_type": "stream",
     "text": [
      "Requirement already satisfied: duckduckgo-search in ./venv/lib/python3.12/site-packages (6.2.13)\n",
      "Requirement already satisfied: click>=8.1.7 in ./venv/lib/python3.12/site-packages (from duckduckgo-search) (8.1.7)\n",
      "Requirement already satisfied: primp>=0.6.3 in ./venv/lib/python3.12/site-packages (from duckduckgo-search) (0.6.3)\n",
      "Note: you may need to restart the kernel to use updated packages.\n"
     ]
    }
   ],
   "source": [
    "pip install duckduckgo-search"
   ]
  },
  {
   "cell_type": "markdown",
   "metadata": {},
   "source": [
    "# First way of using Langchain to and using a decorator "
   ]
  },
  {
   "cell_type": "code",
   "execution_count": 19,
   "metadata": {},
   "outputs": [],
   "source": [
    "from langchain_core.tools import tool\n",
    "from langchain_community.tools import DuckDuckGoSearchRun"
   ]
  },
  {
   "cell_type": "code",
   "execution_count": 28,
   "metadata": {},
   "outputs": [],
   "source": [
    "@tool(\"tool_browser\")\n",
    "def tool_browser(q : str) -> str: \n",
    "    \"\"\" Search on DuckDuckGo browser by passing input q\"\"\"\n",
    "    return DuckDuckGoSearchRun().run(q)"
   ]
  },
  {
   "cell_type": "code",
   "execution_count": 21,
   "metadata": {},
   "outputs": [
    {
     "name": "stdout",
     "output_type": "stream",
     "text": [
      "Famous deaths in September 2024. Learn about 42 historical figures, notable people and celebrities who died in Sep 2024 like James Earl Jones, Alberto Fujimori and Maggie Smith. ... (Baylor University 1973-77) and executive (GM Houston Rockets 1996-2006), dies at 86; Sep 9 Cecília Gáspár, Hungarian soccer midfielder and captain (28 caps; TSV ... Tommy Cash, the younger brother of Johnny Cash and a country musician in his own right, died Sept. 13 at 84. His death was announced by a statement from the Johnny Cash Museum. \"This great man ... Sept. 9, 2024; Leer en español. James Earl Jones, a stuttering farm child who became a voice of rolling thunder as one of America's most versatile actors in a stage, film and television career ... FILE - James Earl Jones arrives before the 84th Academy Awards on Sunday, Feb. 26, 2012, in the Hollywood section of Los Angeles. Jones, who overcame racial prejudice and a severe stutter to become a celebrated icon of stage and screen has died at age 93. His agent, Barry McPherson, confirmed Jones died Monday morning, Sept. 9, 2024, at home. Died September 9 2024. News Obituaries Mitchell Wiggins (1959-2024), Houston Rockets shooting guard. by Linnea Crowther September 16, 2024.\n"
     ]
    }
   ],
   "source": [
    "print(tool_browser(q))"
   ]
  },
  {
   "cell_type": "markdown",
   "metadata": {},
   "source": [
    "# Second way of creating a normal function and turning it into an Ollama Schema with Semantic Router \n"
   ]
  },
  {
   "cell_type": "code",
   "execution_count": 22,
   "metadata": {},
   "outputs": [
    {
     "name": "stdout",
     "output_type": "stream",
     "text": [
      "Requirement already satisfied: semantic-router in ./venv/lib/python3.12/site-packages (0.0.68)\n",
      "Requirement already satisfied: aiohttp<4.0.0,>=3.9.5 in ./venv/lib/python3.12/site-packages (from semantic-router) (3.10.8)\n",
      "Requirement already satisfied: cohere<6.00,>=5.9.4 in ./venv/lib/python3.12/site-packages (from semantic-router) (5.11.0)\n",
      "Requirement already satisfied: colorama<0.5.0,>=0.4.6 in ./venv/lib/python3.12/site-packages (from semantic-router) (0.4.6)\n",
      "Requirement already satisfied: colorlog<7.0.0,>=6.8.0 in ./venv/lib/python3.12/site-packages (from semantic-router) (6.8.2)\n",
      "Requirement already satisfied: numpy<2.0.0,>=1.25.2 in ./venv/lib/python3.12/site-packages (from semantic-router) (1.26.4)\n",
      "Requirement already satisfied: openai<2.0.0,>=1.10.0 in ./venv/lib/python3.12/site-packages (from semantic-router) (1.50.2)\n",
      "Requirement already satisfied: pydantic<3.0.0,>=2.5.3 in ./venv/lib/python3.12/site-packages (from semantic-router) (2.9.2)\n",
      "Requirement already satisfied: pyyaml<7.0.0,>=6.0.1 in ./venv/lib/python3.12/site-packages (from semantic-router) (6.0.2)\n",
      "Requirement already satisfied: regex>=2023.12.25 in ./venv/lib/python3.12/site-packages (from semantic-router) (2024.9.11)\n",
      "Requirement already satisfied: requests-mock<2.0.0,>=1.12.1 in ./venv/lib/python3.12/site-packages (from semantic-router) (1.12.1)\n",
      "Requirement already satisfied: tiktoken<1.0.0,>=0.6.0 in ./venv/lib/python3.12/site-packages (from semantic-router) (0.7.0)\n",
      "Requirement already satisfied: aiohappyeyeballs>=2.3.0 in ./venv/lib/python3.12/site-packages (from aiohttp<4.0.0,>=3.9.5->semantic-router) (2.4.3)\n",
      "Requirement already satisfied: aiosignal>=1.1.2 in ./venv/lib/python3.12/site-packages (from aiohttp<4.0.0,>=3.9.5->semantic-router) (1.3.1)\n",
      "Requirement already satisfied: attrs>=17.3.0 in ./venv/lib/python3.12/site-packages (from aiohttp<4.0.0,>=3.9.5->semantic-router) (23.2.0)\n",
      "Requirement already satisfied: frozenlist>=1.1.1 in ./venv/lib/python3.12/site-packages (from aiohttp<4.0.0,>=3.9.5->semantic-router) (1.4.1)\n",
      "Requirement already satisfied: multidict<7.0,>=4.5 in ./venv/lib/python3.12/site-packages (from aiohttp<4.0.0,>=3.9.5->semantic-router) (6.1.0)\n",
      "Requirement already satisfied: yarl<2.0,>=1.12.0 in ./venv/lib/python3.12/site-packages (from aiohttp<4.0.0,>=3.9.5->semantic-router) (1.13.1)\n",
      "Requirement already satisfied: boto3<2.0.0,>=1.34.0 in ./venv/lib/python3.12/site-packages (from cohere<6.00,>=5.9.4->semantic-router) (1.35.30)\n",
      "Requirement already satisfied: fastavro<2.0.0,>=1.9.4 in ./venv/lib/python3.12/site-packages (from cohere<6.00,>=5.9.4->semantic-router) (1.9.7)\n",
      "Requirement already satisfied: httpx>=0.21.2 in ./venv/lib/python3.12/site-packages (from cohere<6.00,>=5.9.4->semantic-router) (0.27.2)\n",
      "Requirement already satisfied: httpx-sse==0.4.0 in ./venv/lib/python3.12/site-packages (from cohere<6.00,>=5.9.4->semantic-router) (0.4.0)\n",
      "Requirement already satisfied: parameterized<0.10.0,>=0.9.0 in ./venv/lib/python3.12/site-packages (from cohere<6.00,>=5.9.4->semantic-router) (0.9.0)\n",
      "Requirement already satisfied: pydantic-core<3.0.0,>=2.18.2 in ./venv/lib/python3.12/site-packages (from cohere<6.00,>=5.9.4->semantic-router) (2.23.4)\n",
      "Requirement already satisfied: requests<3.0.0,>=2.0.0 in ./venv/lib/python3.12/site-packages (from cohere<6.00,>=5.9.4->semantic-router) (2.32.3)\n",
      "Requirement already satisfied: sagemaker<3.0.0,>=2.232.1 in ./venv/lib/python3.12/site-packages (from cohere<6.00,>=5.9.4->semantic-router) (2.232.1)\n",
      "Requirement already satisfied: tokenizers<1,>=0.15 in ./venv/lib/python3.12/site-packages (from cohere<6.00,>=5.9.4->semantic-router) (0.20.0)\n",
      "Requirement already satisfied: types-requests<3.0.0,>=2.0.0 in ./venv/lib/python3.12/site-packages (from cohere<6.00,>=5.9.4->semantic-router) (2.32.0.20240914)\n",
      "Requirement already satisfied: typing_extensions>=4.0.0 in ./venv/lib/python3.12/site-packages (from cohere<6.00,>=5.9.4->semantic-router) (4.12.2)\n",
      "Requirement already satisfied: anyio<5,>=3.5.0 in ./venv/lib/python3.12/site-packages (from openai<2.0.0,>=1.10.0->semantic-router) (4.6.0)\n",
      "Requirement already satisfied: distro<2,>=1.7.0 in ./venv/lib/python3.12/site-packages (from openai<2.0.0,>=1.10.0->semantic-router) (1.9.0)\n",
      "Requirement already satisfied: jiter<1,>=0.4.0 in ./venv/lib/python3.12/site-packages (from openai<2.0.0,>=1.10.0->semantic-router) (0.5.0)\n",
      "Requirement already satisfied: sniffio in ./venv/lib/python3.12/site-packages (from openai<2.0.0,>=1.10.0->semantic-router) (1.3.1)\n",
      "Requirement already satisfied: tqdm>4 in ./venv/lib/python3.12/site-packages (from openai<2.0.0,>=1.10.0->semantic-router) (4.66.5)\n",
      "Requirement already satisfied: annotated-types>=0.6.0 in ./venv/lib/python3.12/site-packages (from pydantic<3.0.0,>=2.5.3->semantic-router) (0.7.0)\n",
      "Requirement already satisfied: idna>=2.8 in ./venv/lib/python3.12/site-packages (from anyio<5,>=3.5.0->openai<2.0.0,>=1.10.0->semantic-router) (3.10)\n",
      "Requirement already satisfied: botocore<1.36.0,>=1.35.30 in ./venv/lib/python3.12/site-packages (from boto3<2.0.0,>=1.34.0->cohere<6.00,>=5.9.4->semantic-router) (1.35.30)\n",
      "Requirement already satisfied: jmespath<2.0.0,>=0.7.1 in ./venv/lib/python3.12/site-packages (from boto3<2.0.0,>=1.34.0->cohere<6.00,>=5.9.4->semantic-router) (1.0.1)\n",
      "Requirement already satisfied: s3transfer<0.11.0,>=0.10.0 in ./venv/lib/python3.12/site-packages (from boto3<2.0.0,>=1.34.0->cohere<6.00,>=5.9.4->semantic-router) (0.10.2)\n",
      "Requirement already satisfied: certifi in ./venv/lib/python3.12/site-packages (from httpx>=0.21.2->cohere<6.00,>=5.9.4->semantic-router) (2024.8.30)\n",
      "Requirement already satisfied: httpcore==1.* in ./venv/lib/python3.12/site-packages (from httpx>=0.21.2->cohere<6.00,>=5.9.4->semantic-router) (1.0.5)\n",
      "Requirement already satisfied: h11<0.15,>=0.13 in ./venv/lib/python3.12/site-packages (from httpcore==1.*->httpx>=0.21.2->cohere<6.00,>=5.9.4->semantic-router) (0.14.0)\n",
      "Requirement already satisfied: charset-normalizer<4,>=2 in ./venv/lib/python3.12/site-packages (from requests<3.0.0,>=2.0.0->cohere<6.00,>=5.9.4->semantic-router) (3.3.2)\n",
      "Requirement already satisfied: urllib3<3,>=1.21.1 in ./venv/lib/python3.12/site-packages (from requests<3.0.0,>=2.0.0->cohere<6.00,>=5.9.4->semantic-router) (2.2.3)\n",
      "Requirement already satisfied: cloudpickle==2.2.1 in ./venv/lib/python3.12/site-packages (from sagemaker<3.0.0,>=2.232.1->cohere<6.00,>=5.9.4->semantic-router) (2.2.1)\n",
      "Requirement already satisfied: docker in ./venv/lib/python3.12/site-packages (from sagemaker<3.0.0,>=2.232.1->cohere<6.00,>=5.9.4->semantic-router) (7.1.0)\n",
      "Requirement already satisfied: google-pasta in ./venv/lib/python3.12/site-packages (from sagemaker<3.0.0,>=2.232.1->cohere<6.00,>=5.9.4->semantic-router) (0.2.0)\n",
      "Requirement already satisfied: importlib-metadata<7.0,>=1.4.0 in ./venv/lib/python3.12/site-packages (from sagemaker<3.0.0,>=2.232.1->cohere<6.00,>=5.9.4->semantic-router) (6.11.0)\n",
      "Requirement already satisfied: jsonschema in ./venv/lib/python3.12/site-packages (from sagemaker<3.0.0,>=2.232.1->cohere<6.00,>=5.9.4->semantic-router) (4.23.0)\n",
      "Requirement already satisfied: packaging>=20.0 in ./venv/lib/python3.12/site-packages (from sagemaker<3.0.0,>=2.232.1->cohere<6.00,>=5.9.4->semantic-router) (24.1)\n",
      "Requirement already satisfied: pandas in ./venv/lib/python3.12/site-packages (from sagemaker<3.0.0,>=2.232.1->cohere<6.00,>=5.9.4->semantic-router) (2.2.3)\n",
      "Requirement already satisfied: pathos in ./venv/lib/python3.12/site-packages (from sagemaker<3.0.0,>=2.232.1->cohere<6.00,>=5.9.4->semantic-router) (0.3.3)\n",
      "Requirement already satisfied: platformdirs in ./venv/lib/python3.12/site-packages (from sagemaker<3.0.0,>=2.232.1->cohere<6.00,>=5.9.4->semantic-router) (4.3.6)\n",
      "Requirement already satisfied: protobuf<5.0,>=3.12 in ./venv/lib/python3.12/site-packages (from sagemaker<3.0.0,>=2.232.1->cohere<6.00,>=5.9.4->semantic-router) (4.25.5)\n",
      "Requirement already satisfied: psutil in ./venv/lib/python3.12/site-packages (from sagemaker<3.0.0,>=2.232.1->cohere<6.00,>=5.9.4->semantic-router) (5.9.0)\n",
      "Requirement already satisfied: sagemaker-core<2.0.0,>=1.0.0 in ./venv/lib/python3.12/site-packages (from sagemaker<3.0.0,>=2.232.1->cohere<6.00,>=5.9.4->semantic-router) (1.0.9)\n",
      "Requirement already satisfied: schema in ./venv/lib/python3.12/site-packages (from sagemaker<3.0.0,>=2.232.1->cohere<6.00,>=5.9.4->semantic-router) (0.7.7)\n",
      "Requirement already satisfied: smdebug-rulesconfig==1.0.1 in ./venv/lib/python3.12/site-packages (from sagemaker<3.0.0,>=2.232.1->cohere<6.00,>=5.9.4->semantic-router) (1.0.1)\n",
      "Requirement already satisfied: tblib<4,>=1.7.0 in ./venv/lib/python3.12/site-packages (from sagemaker<3.0.0,>=2.232.1->cohere<6.00,>=5.9.4->semantic-router) (3.0.0)\n",
      "Requirement already satisfied: huggingface-hub<1.0,>=0.16.4 in ./venv/lib/python3.12/site-packages (from tokenizers<1,>=0.15->cohere<6.00,>=5.9.4->semantic-router) (0.25.1)\n",
      "Requirement already satisfied: python-dateutil<3.0.0,>=2.1 in ./venv/lib/python3.12/site-packages (from botocore<1.36.0,>=1.35.30->boto3<2.0.0,>=1.34.0->cohere<6.00,>=5.9.4->semantic-router) (2.9.0)\n",
      "Requirement already satisfied: filelock in ./venv/lib/python3.12/site-packages (from huggingface-hub<1.0,>=0.16.4->tokenizers<1,>=0.15->cohere<6.00,>=5.9.4->semantic-router) (3.16.1)\n",
      "Requirement already satisfied: fsspec>=2023.5.0 in ./venv/lib/python3.12/site-packages (from huggingface-hub<1.0,>=0.16.4->tokenizers<1,>=0.15->cohere<6.00,>=5.9.4->semantic-router) (2024.9.0)\n",
      "Requirement already satisfied: zipp>=0.5 in ./venv/lib/python3.12/site-packages (from importlib-metadata<7.0,>=1.4.0->sagemaker<3.0.0,>=2.232.1->cohere<6.00,>=5.9.4->semantic-router) (3.20.2)\n",
      "Requirement already satisfied: rich<14.0.0,>=13.0.0 in ./venv/lib/python3.12/site-packages (from sagemaker-core<2.0.0,>=1.0.0->sagemaker<3.0.0,>=2.232.1->cohere<6.00,>=5.9.4->semantic-router) (13.9.0)\n",
      "Requirement already satisfied: mock<5.0,>4.0 in ./venv/lib/python3.12/site-packages (from sagemaker-core<2.0.0,>=1.0.0->sagemaker<3.0.0,>=2.232.1->cohere<6.00,>=5.9.4->semantic-router) (4.0.3)\n",
      "Requirement already satisfied: jsonschema-specifications>=2023.03.6 in ./venv/lib/python3.12/site-packages (from jsonschema->sagemaker<3.0.0,>=2.232.1->cohere<6.00,>=5.9.4->semantic-router) (2023.12.1)\n",
      "Requirement already satisfied: referencing>=0.28.4 in ./venv/lib/python3.12/site-packages (from jsonschema->sagemaker<3.0.0,>=2.232.1->cohere<6.00,>=5.9.4->semantic-router) (0.35.1)\n",
      "Requirement already satisfied: rpds-py>=0.7.1 in ./venv/lib/python3.12/site-packages (from jsonschema->sagemaker<3.0.0,>=2.232.1->cohere<6.00,>=5.9.4->semantic-router) (0.20.0)\n",
      "Requirement already satisfied: six in ./venv/lib/python3.12/site-packages (from google-pasta->sagemaker<3.0.0,>=2.232.1->cohere<6.00,>=5.9.4->semantic-router) (1.16.0)\n",
      "Requirement already satisfied: pytz>=2020.1 in ./venv/lib/python3.12/site-packages (from pandas->sagemaker<3.0.0,>=2.232.1->cohere<6.00,>=5.9.4->semantic-router) (2024.2)\n",
      "Requirement already satisfied: tzdata>=2022.7 in ./venv/lib/python3.12/site-packages (from pandas->sagemaker<3.0.0,>=2.232.1->cohere<6.00,>=5.9.4->semantic-router) (2024.2)\n",
      "Requirement already satisfied: ppft>=1.7.6.9 in ./venv/lib/python3.12/site-packages (from pathos->sagemaker<3.0.0,>=2.232.1->cohere<6.00,>=5.9.4->semantic-router) (1.7.6.9)\n",
      "Requirement already satisfied: dill>=0.3.9 in ./venv/lib/python3.12/site-packages (from pathos->sagemaker<3.0.0,>=2.232.1->cohere<6.00,>=5.9.4->semantic-router) (0.3.9)\n",
      "Requirement already satisfied: pox>=0.3.5 in ./venv/lib/python3.12/site-packages (from pathos->sagemaker<3.0.0,>=2.232.1->cohere<6.00,>=5.9.4->semantic-router) (0.3.5)\n",
      "Requirement already satisfied: multiprocess>=0.70.17 in ./venv/lib/python3.12/site-packages (from pathos->sagemaker<3.0.0,>=2.232.1->cohere<6.00,>=5.9.4->semantic-router) (0.70.17)\n",
      "Requirement already satisfied: markdown-it-py>=2.2.0 in ./venv/lib/python3.12/site-packages (from rich<14.0.0,>=13.0.0->sagemaker-core<2.0.0,>=1.0.0->sagemaker<3.0.0,>=2.232.1->cohere<6.00,>=5.9.4->semantic-router) (3.0.0)\n",
      "Requirement already satisfied: pygments<3.0.0,>=2.13.0 in ./venv/lib/python3.12/site-packages (from rich<14.0.0,>=13.0.0->sagemaker-core<2.0.0,>=1.0.0->sagemaker<3.0.0,>=2.232.1->cohere<6.00,>=5.9.4->semantic-router) (2.18.0)\n",
      "Requirement already satisfied: mdurl~=0.1 in ./venv/lib/python3.12/site-packages (from markdown-it-py>=2.2.0->rich<14.0.0,>=13.0.0->sagemaker-core<2.0.0,>=1.0.0->sagemaker<3.0.0,>=2.232.1->cohere<6.00,>=5.9.4->semantic-router) (0.1.2)\n",
      "Note: you may need to restart the kernel to use updated packages.\n"
     ]
    }
   ],
   "source": [
    "pip install semantic-router"
   ]
  },
  {
   "cell_type": "code",
   "execution_count": 23,
   "metadata": {},
   "outputs": [
    {
     "data": {
      "text/plain": [
       "{'type': 'function',\n",
       " 'function': {'name': 'browser',\n",
       "  'description': 'Search on DuckDuckGo browser by passing the input q',\n",
       "  'parameters': {'type': 'object',\n",
       "   'properties': {'q': {'description': None, 'type': 'string'}},\n",
       "   'required': []}}}"
      ]
     },
     "execution_count": 23,
     "metadata": {},
     "output_type": "execute_result"
    }
   ],
   "source": [
    "# from semantic_router.utils.function_call import FunctionSchema\n",
    "\n",
    "# def browser(q : str) -> str:\n",
    "#     \"\"\" Search on DuckDuckGo browser by passing the input q\"\"\"\n",
    "#     return DuckDuckGoSearchRun().run(q)\n",
    "\n",
    "# tool_browser = FunctionSchema(browser).to_ollama()\n",
    "# tool_browser"
   ]
  },
  {
   "cell_type": "code",
   "execution_count": 24,
   "metadata": {},
   "outputs": [],
   "source": [
    "@tool(\"final_answer\")\n",
    "def final_answer(text : str) -> str:\n",
    "    \"\"\" Returns a natural language response to the user by passing the input \"\"\"\n",
    "    return text\n"
   ]
  },
  {
   "cell_type": "code",
   "execution_count": 25,
   "metadata": {},
   "outputs": [],
   "source": [
    "prompt = \"\"\"\n",
    "You know everything, you must answer every question from the user, you can use the list of tools provided to you.\n",
    "Your goal is to provide the user with the best possible answer, including key information about the sources and tools used.\n",
    "\n",
    "Note, when using a tool, you provide the tool name and the arguments to use in JSON format. \n",
    "For each call, you MUST ONLY use one tool AND the response format must ALWAYS be in the pattern:\n",
    "```json\n",
    "{\"name\":\"<tool_name>\", \"parameters\": {\"<tool_input_key>\":<tool_input_value>}}\n",
    "```\n",
    "Remember, do NOT use any tool with the same query more than once.\n",
    "Remember, if the user doesn't ask a specific question, you MUST use the `final_answer` tool directly.\n",
    "\n",
    "Every time the user asks a question, you take note of some keywords in the memory.\n",
    "Every time you find some information related to the user's question, you take note of some keywords in the memory.\n",
    "\n",
    "You should aim to collect information from a diverse range of sources before providing the answer to the user. \n",
    "Once you have collected plenty of information to answer the user's question use the `final_answer` tool.\n",
    "\"\"\""
   ]
  },
  {
   "cell_type": "code",
   "execution_count": 30,
   "metadata": {},
   "outputs": [
    {
     "name": "stdout",
     "output_type": "stream",
     "text": [
      "You can use the following tools:\n",
      "1. `tool_browser`: Search on DuckDuckGo browser by passing input q\n",
      "2. `final_answer`: Returns a natural language response to the user by passing the input\n"
     ]
    }
   ],
   "source": [
    "dic_tools = {\"tool_browser\":tool_browser, \n",
    "             \"final_answer\":final_answer}\n",
    "\n",
    "str_tools = \"\\n\".join([str(n+1)+\". `\"+str(v.name)+\"`: \"+str(v.description) for n,v in enumerate(dic_tools.values())])\n",
    "prompt_tools = f\"You can use the following tools:\\n{str_tools}\"\n",
    "print(prompt_tools)"
   ]
  },
  {
   "cell_type": "code",
   "execution_count": 31,
   "metadata": {},
   "outputs": [
    {
     "name": "stdout",
     "output_type": "stream",
     "text": [
      "{'model': 'llama3.1', 'created_at': '2024-10-01T13:43:39.524291Z', 'message': {'role': 'assistant', 'content': '{\"name\":\"final_answer\", \"parameters\":{\"q\":\"Hello, I\\'m here to help. How can I assist you today?\"}}'}, 'done_reason': 'stop', 'done': True, 'total_duration': 3256379000, 'load_duration': 1056977875, 'prompt_eval_count': 298, 'prompt_eval_duration': 1177590000, 'eval_count': 28, 'eval_duration': 1016736000}\n"
     ]
    }
   ],
   "source": [
    "from pprint import pprint\n",
    "\n",
    "llm_res = ollama.chat(\n",
    "    model=llm,\n",
    "    messages=[{'role':'system', 'content': prompt+\"\\n\"+prompt_tools},\n",
    "              {'role':'user', 'content': \"hello\"}]\n",
    ")\n",
    "\n",
    "print(llm_res)"
   ]
  },
  {
   "cell_type": "code",
   "execution_count": 33,
   "metadata": {},
   "outputs": [
    {
     "data": {
      "text/plain": [
       "'{\"name\":\"tool_browser\", \"parameters\": {\"q\":\"\\\\\"September 9 2024 death\\\\\"\"}}'"
      ]
     },
     "execution_count": 33,
     "metadata": {},
     "output_type": "execute_result"
    }
   ],
   "source": [
    "from pprint import pprint\n",
    "\n",
    "llm_res = ollama.chat(\n",
    "    model=llm,\n",
    "    messages=[{'role':'system', 'content': prompt+\"\\n\"+prompt_tools},\n",
    "              {'role':'user', 'content': q}], format='json'\n",
    ")\n",
    "\n",
    "llm_res[\"message\"][\"content\"]"
   ]
  },
  {
   "cell_type": "code",
   "execution_count": 36,
   "metadata": {},
   "outputs": [
    {
     "name": "stdout",
     "output_type": "stream",
     "text": [
      "tool input : \"September 9 2024 death\"\n",
      "tool_output:  No good DuckDuckGo Search Result was found\n",
      "\n",
      "llm_output:\n",
      " It looks like you didn't provide any information for me to work with. The phrase \"No good DuckDuckGo Search Result was found\" seems to be a message that indicates a search query failed or returned no relevant results, but it's not clear what specific question or topic we're discussing.\n",
      "\n",
      "If you'd like to share more context or clarify your question, I'd be happy to try and help!\n"
     ]
    }
   ],
   "source": [
    "import json\n",
    "\n",
    "tool_input = json.loads(llm_res[\"message\"][\"content\"])[\"parameters\"][\"q\"]\n",
    "print(\"tool input :\", tool_input)\n",
    "\n",
    "context = tool_browser(tool_input)\n",
    "print(\"tool_output: \", context)\n",
    "\n",
    "from pprint import pprint\n",
    "\n",
    "llm_output = ollama.chat(\n",
    "    model=llm,\n",
    "    messages=[{'role':'system', 'content': \"Give us the most accurate answer using the following information: \\n\"+context},\n",
    "              {'role':'user', 'content': \"q\"}]\n",
    ")\n",
    "\n",
    "print(\"\\nllm_output:\\n\", llm_output[\"message\"][\"content\"])"
   ]
  },
  {
   "cell_type": "code",
   "execution_count": null,
   "metadata": {},
   "outputs": [],
   "source": []
  },
  {
   "cell_type": "code",
   "execution_count": null,
   "metadata": {},
   "outputs": [],
   "source": []
  }
 ],
 "metadata": {
  "kernelspec": {
   "display_name": "Python 3",
   "language": "python",
   "name": "python3"
  },
  "language_info": {
   "codemirror_mode": {
    "name": "ipython",
    "version": 3
   },
   "file_extension": ".py",
   "mimetype": "text/x-python",
   "name": "python",
   "nbconvert_exporter": "python",
   "pygments_lexer": "ipython3",
   "version": "3.12.5"
  }
 },
 "nbformat": 4,
 "nbformat_minor": 2
}
